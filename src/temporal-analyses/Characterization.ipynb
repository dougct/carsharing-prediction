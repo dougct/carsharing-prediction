{
 "cells": [
  {
   "cell_type": "markdown",
   "metadata": {},
   "source": [
    "# Characterization"
   ]
  },
  {
   "cell_type": "markdown",
   "metadata": {},
   "source": [
    "## Setup"
   ]
  },
  {
   "cell_type": "code",
   "execution_count": 1,
   "metadata": {},
   "outputs": [],
   "source": [
    "import sys\n",
    "import math\n",
    "import json\n",
    "import numpy as np\n",
    "import pandas as pd\n",
    "import matplotlib.pyplot as plt\n",
    "%matplotlib inline\n",
    "\n",
    "def load_data(dataset_name):\n",
    "    # Read the data and create the dataframe.\n",
    "    df = pd.DataFrame(pd.read_csv(dataset_name, encoding='utf-8', sep=\",\"))\n",
    "\n",
    "    # Convert the 'timestamp' column to date format.\n",
    "    df['date'] = pd.to_datetime(df['date'], errors=\"raise\")\n",
    "    df['weekday'] = df['date'].dt.weekday\n",
    "    \n",
    "    df.drop('day', axis = 1, inplace = True)\n",
    "    df.drop('isweekend', axis = 1, inplace = True)\n",
    "    \n",
    "    return df.sort_values('date')\n"
   ]
  },
  {
   "cell_type": "code",
   "execution_count": 2,
   "metadata": {},
   "outputs": [],
   "source": [
    "df = load_data(\"data/Vancouver2017Full.csv\")"
   ]
  },
  {
   "cell_type": "code",
   "execution_count": 3,
   "metadata": {},
   "outputs": [
    {
     "data": {
      "text/html": [
       "<div>\n",
       "<style scoped>\n",
       "    .dataframe tbody tr th:only-of-type {\n",
       "        vertical-align: middle;\n",
       "    }\n",
       "\n",
       "    .dataframe tbody tr th {\n",
       "        vertical-align: top;\n",
       "    }\n",
       "\n",
       "    .dataframe thead th {\n",
       "        text-align: right;\n",
       "    }\n",
       "</style>\n",
       "<table border=\"1\" class=\"dataframe\">\n",
       "  <thead>\n",
       "    <tr style=\"text-align: right;\">\n",
       "      <th></th>\n",
       "      <th>date</th>\n",
       "      <th>weekday</th>\n",
       "      <th>hourofday</th>\n",
       "      <th>periodofday</th>\n",
       "      <th>weather</th>\n",
       "    </tr>\n",
       "  </thead>\n",
       "  <tbody>\n",
       "    <tr>\n",
       "      <th>0</th>\n",
       "      <td>2017-01-01</td>\n",
       "      <td>6</td>\n",
       "      <td>12</td>\n",
       "      <td>4</td>\n",
       "      <td>3</td>\n",
       "    </tr>\n",
       "    <tr>\n",
       "      <th>1001</th>\n",
       "      <td>2017-01-01</td>\n",
       "      <td>6</td>\n",
       "      <td>18</td>\n",
       "      <td>6</td>\n",
       "      <td>3</td>\n",
       "    </tr>\n",
       "    <tr>\n",
       "      <th>1000</th>\n",
       "      <td>2017-01-01</td>\n",
       "      <td>6</td>\n",
       "      <td>18</td>\n",
       "      <td>6</td>\n",
       "      <td>3</td>\n",
       "    </tr>\n",
       "    <tr>\n",
       "      <th>999</th>\n",
       "      <td>2017-01-01</td>\n",
       "      <td>6</td>\n",
       "      <td>18</td>\n",
       "      <td>6</td>\n",
       "      <td>3</td>\n",
       "    </tr>\n",
       "    <tr>\n",
       "      <th>998</th>\n",
       "      <td>2017-01-01</td>\n",
       "      <td>6</td>\n",
       "      <td>18</td>\n",
       "      <td>6</td>\n",
       "      <td>3</td>\n",
       "    </tr>\n",
       "  </tbody>\n",
       "</table>\n",
       "</div>"
      ],
      "text/plain": [
       "           date  weekday  hourofday  periodofday  weather\n",
       "0    2017-01-01        6         12            4        3\n",
       "1001 2017-01-01        6         18            6        3\n",
       "1000 2017-01-01        6         18            6        3\n",
       "999  2017-01-01        6         18            6        3\n",
       "998  2017-01-01        6         18            6        3"
      ]
     },
     "execution_count": 3,
     "metadata": {},
     "output_type": "execute_result"
    }
   ],
   "source": [
    "df.head()"
   ]
  },
  {
   "cell_type": "markdown",
   "metadata": {},
   "source": [
    "## Basic Info"
   ]
  },
  {
   "cell_type": "code",
   "execution_count": 4,
   "metadata": {},
   "outputs": [
    {
     "data": {
      "text/plain": [
       "1055980"
      ]
     },
     "execution_count": 4,
     "metadata": {},
     "output_type": "execute_result"
    }
   ],
   "source": [
    "# Total number of bookings.\n",
    "len(df)"
   ]
  },
  {
   "cell_type": "code",
   "execution_count": 5,
   "metadata": {},
   "outputs": [
    {
     "data": {
      "text/plain": [
       "Timedelta('364 days 00:00:00')"
      ]
     },
     "execution_count": 5,
     "metadata": {},
     "output_type": "execute_result"
    }
   ],
   "source": [
    "# Period covered by the data\n",
    "max(df['date']) - min(df['date'])"
   ]
  },
  {
   "cell_type": "code",
   "execution_count": 6,
   "metadata": {},
   "outputs": [
    {
     "data": {
      "text/plain": [
       "229"
      ]
     },
     "execution_count": 6,
     "metadata": {},
     "output_type": "execute_result"
    }
   ],
   "source": [
    "# Number of days for which there are bookings\n",
    "len(df.groupby(['date']))"
   ]
  },
  {
   "cell_type": "markdown",
   "metadata": {},
   "source": [
    "## Number of Bookings in the Whole Period"
   ]
  },
  {
   "cell_type": "code",
   "execution_count": 7,
   "metadata": {},
   "outputs": [
    {
     "data": {
      "text/plain": [
       "date\n",
       "2017-01-01    1493\n",
       "2017-01-02    2358\n",
       "2017-01-03    3019\n",
       "2017-01-04    3294\n",
       "2017-01-05    3656\n",
       "Name: date, dtype: int64"
      ]
     },
     "execution_count": 7,
     "metadata": {},
     "output_type": "execute_result"
    }
   ],
   "source": [
    "df_bookings_whole_period = df.groupby(df[\"date\"])['date'].count()\n",
    "df_bookings_whole_period.head()"
   ]
  },
  {
   "cell_type": "code",
   "execution_count": 8,
   "metadata": {},
   "outputs": [
    {
     "name": "stderr",
     "output_type": "stream",
     "text": [
      "/Users/douglas/anaconda3/lib/python3.7/site-packages/pandas/plotting/_matplotlib/converter.py:102: FutureWarning: Using an implicitly registered datetime converter for a matplotlib plotting method. The converter was registered by pandas on import. Future versions of pandas will require you to explicitly register matplotlib converters.\n",
      "\n",
      "To register the converters:\n",
      "\t>>> from pandas.plotting import register_matplotlib_converters\n",
      "\t>>> register_matplotlib_converters()\n",
      "  warnings.warn(msg, FutureWarning)\n"
     ]
    },
    {
     "data": {
      "image/png": "[encoded data removed]",
      "text/plain": [
       "<Figure size 432x288 with 1 Axes>"
      ]
     },
     "metadata": {
      "needs_background": "light"
     },
     "output_type": "display_data"
    }
   ],
   "source": [
    "import numpy as np\n",
    "import matplotlib.pyplot as plt\n",
    "import matplotlib.dates as mdates\n",
    "import matplotlib.cbook as cbook\n",
    "\n",
    "fig, ax = plt.subplots()\n",
    "ax.bar(df_bookings_whole_period.index, df_bookings_whole_period.values)\n",
    "\n",
    "ax.set_xlabel('Date')\n",
    "ax.set_ylabel('Number of Bookings')\n",
    "ax.set_title('Volume of Bookings in 2017')\n",
    "\n",
    "# Save chart.\n",
    "plt.savefig('charts/BookingsWholePeriod.pdf', dpi = 200)\n",
    "\n",
    "plt.show()"
   ]
  },
  {
   "cell_type": "markdown",
   "metadata": {},
   "source": [
    "## Number of bookings per month"
   ]
  },
  {
   "cell_type": "code",
   "execution_count": 9,
   "metadata": {},
   "outputs": [
    {
     "data": {
      "text/plain": [
       "date\n",
       "1     128592\n",
       "2      92503\n",
       "4      17483\n",
       "5       9642\n",
       "6     106165\n",
       "7     120036\n",
       "8      90005\n",
       "9     130637\n",
       "10    169868\n",
       "11     60005\n",
       "12    131044\n",
       "Name: date, dtype: int64"
      ]
     },
     "execution_count": 9,
     "metadata": {},
     "output_type": "execute_result"
    }
   ],
   "source": [
    "import calendar\n",
    "df_bookings_month = df.groupby(df[\"date\"].dt.month)['date'].count()\n",
    "df_bookings_month"
   ]
  },
  {
   "cell_type": "code",
   "execution_count": 10,
   "metadata": {},
   "outputs": [
    {
     "data": {
      "image/png": "[encoded data removed]",
      "text/plain": [
       "<Figure size 432x288 with 1 Axes>"
      ]
     },
     "metadata": {
      "needs_background": "light"
     },
     "output_type": "display_data"
    }
   ],
   "source": [
    "import matplotlib\n",
    "import numpy as np\n",
    "import matplotlib.pyplot as plt\n",
    "\n",
    "months = ['Jan', 'Feb', 'Mar', 'Apr', 'May', 'Jun', 'Jul', 'Aug', 'Sep', 'Oct', 'Nov', 'Dec']\n",
    "pos = [i + 1 for i, _ in enumerate(months)]\n",
    "\n",
    "# the histogram of the data\n",
    "fig, ax = plt.subplots()\n",
    "ax.bar(df_bookings_month.index, df_bookings_month.values)\n",
    "ax.set_xlabel('Month')\n",
    "ax.set_ylabel('Number of Bookings')\n",
    "ax.set_title('Number of Bookings per Month - 2017')\n",
    "plt.xticks(pos, months)\n",
    "\n",
    "# Tweak spacing to prevent clipping of ylabel\n",
    "fig.tight_layout()\n",
    "\n",
    "# Save chart.\n",
    "plt.savefig('charts/BookingsMonth.pdf', dpi = 200)\n",
    "\n",
    "plt.show()"
   ]
  },
  {
   "cell_type": "markdown",
   "metadata": {},
   "source": [
    "## Average Number of Bookings per Weekday"
   ]
  },
  {
   "cell_type": "code",
   "execution_count": 11,
   "metadata": {},
   "outputs": [],
   "source": [
    "weekly_data = [[] for _ in range(7)]\n",
    "for name, group in df.groupby(pd.Grouper(key='date',freq='W')):\n",
    "    if len(group) > 0:\n",
    "        for n, g in group.groupby('weekday'):\n",
    "            weekly_data[n].append(len(g))"
   ]
  },
  {
   "cell_type": "code",
   "execution_count": 12,
   "metadata": {},
   "outputs": [
    {
     "data": {
      "image/png": "[encoded data removed]",
      "text/plain": [
       "<Figure size 432x288 with 1 Axes>"
      ]
     },
     "metadata": {
      "needs_background": "light"
     },
     "output_type": "display_data"
    }
   ],
   "source": [
    "import matplotlib\n",
    "import numpy as np\n",
    "import matplotlib.pyplot as plt\n",
    "\n",
    "weekdays = ['Mon', 'Tue', 'Wed', 'Thu', 'Fri', 'Sat', 'Sun']\n",
    "pos = [i + 1 for i, _ in enumerate(weekdays)]\n",
    "\n",
    "# the histogram of the data\n",
    "fig, ax = plt.subplots()\n",
    "ax.boxplot(weekly_data, notch=0, vert=1, whis=1.5)\n",
    "ax.set_xlabel('Weekday')\n",
    "ax.set_ylabel('Number of Bookings')\n",
    "ax.set_title('Average Number of Bookings per Weekday - 2017')\n",
    "plt.xticks(pos, weekdays)\n",
    "\n",
    "# Tweak spacing to prevent clipping of ylabel\n",
    "fig.tight_layout()\n",
    "\n",
    "# Save chart.\n",
    "plt.savefig('charts/AverageBookingsWeekday.pdf', dpi = 200)\n",
    "\n",
    "plt.show()"
   ]
  },
  {
   "cell_type": "markdown",
   "metadata": {},
   "source": [
    "## Average Number of Bookings per Hour of the Day"
   ]
  },
  {
   "cell_type": "code",
   "execution_count": 13,
   "metadata": {},
   "outputs": [],
   "source": [
    "hourly_data = [[] for _ in range(24)]\n",
    "for name, group in df.groupby(pd.Grouper(key='date',freq='D')):\n",
    "    if len(group) > 0:\n",
    "        for n, g in group.groupby('hourofday'):\n",
    "            hourly_data[n].append(len(g))"
   ]
  },
  {
   "cell_type": "code",
   "execution_count": 14,
   "metadata": {},
   "outputs": [
    {
     "data": {
      "image/png": "[encoded data removed]",
      "text/plain": [
       "<Figure size 432x288 with 1 Axes>"
      ]
     },
     "metadata": {
      "needs_background": "light"
     },
     "output_type": "display_data"
    }
   ],
   "source": [
    "import matplotlib\n",
    "import numpy as np\n",
    "import matplotlib.pyplot as plt\n",
    "\n",
    "# the histogram of the data\n",
    "fig, ax = plt.subplots()\n",
    "ax.boxplot(hourly_data, notch=0, vert=1, whis=1.5)\n",
    "ax.set_xlabel('Hour')\n",
    "ax.set_ylabel('Number of Bookings')\n",
    "ax.set_title('Average Number of Bookings per Hour - 2017')\n",
    "plt.xticks([i + 1 for i in list(range(24))], list(range(24)))\n",
    "\n",
    "# Tweak spacing to prevent clipping of ylabel\n",
    "fig.tight_layout()\n",
    "\n",
    "# Save chart.\n",
    "plt.savefig('charts/AverageBookingsHour.pdf', dpi = 200)\n",
    "\n",
    "plt.show()"
   ]
  },
  {
   "cell_type": "markdown",
   "metadata": {},
   "source": [
    "## Average Number of Bookings per Period of the Day"
   ]
  },
  {
   "cell_type": "code",
   "execution_count": 15,
   "metadata": {},
   "outputs": [],
   "source": [
    "periodic_data = [[] for _ in range(7)]\n",
    "for name, group in df.groupby(pd.Grouper(key='date',freq='D')):\n",
    "    if len(group) > 0:\n",
    "        for n, g in group.groupby('periodofday'):\n",
    "            periodic_data[n - 1].append(len(g))"
   ]
  },
  {
   "cell_type": "code",
   "execution_count": 16,
   "metadata": {},
   "outputs": [
    {
     "data": {
      "image/png": "[encoded data removed]",
      "text/plain": [
       "<Figure size 432x288 with 1 Axes>"
      ]
     },
     "metadata": {
      "needs_background": "light"
     },
     "output_type": "display_data"
    }
   ],
   "source": [
    "import matplotlib\n",
    "import numpy as np\n",
    "import matplotlib.pyplot as plt\n",
    "\n",
    "periods = ['12am - 6am', '6am - 9am', '9am - 12pm', '12pm - 3pm', '3pm - 6pm', '6pm - 9pm', '9pm - 12am']\n",
    "pos = [i + 1 for i, _ in enumerate(periods)]\n",
    "\n",
    "\n",
    "# the histogram of the data\n",
    "fig, ax = plt.subplots()\n",
    "ax.boxplot(periodic_data, notch=0, vert=1, whis=1.5)\n",
    "ax.set_xlabel('Period')\n",
    "ax.set_ylabel('Number of Bookings')\n",
    "ax.set_title('Average Number of Bookings per Period of the Day - 2017')\n",
    "plt.xticks(pos, periods)\n",
    "plt.setp(ax.xaxis.get_ticklabels(),rotation=45)\n",
    "\n",
    "# Tweak spacing to prevent clipping of ylabel\n",
    "fig.tight_layout()\n",
    "\n",
    "# Save chart.\n",
    "plt.savefig('charts/AverageBookingsPeriod.pdf', dpi = 200)\n",
    "\n",
    "plt.show()"
   ]
  }
 ],
 "metadata": {
  "kernelspec": {
   "display_name": "Python 3",
   "language": "python",
   "name": "python3"
  },
  "language_info": {
   "codemirror_mode": {
    "name": "ipython",
    "version": 3
   },
   "file_extension": ".py",
   "mimetype": "text/x-python",
   "name": "python",
   "nbconvert_exporter": "python",
   "pygments_lexer": "ipython3",
   "version": "3.7.3"
  }
 },
 "nbformat": 4,
 "nbformat_minor": 4
}
